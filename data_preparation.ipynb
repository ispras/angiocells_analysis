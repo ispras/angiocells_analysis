{
 "cells": [
  {
   "cell_type": "code",
   "execution_count": 16,
   "metadata": {},
   "outputs": [],
   "source": [
    "import numpy as np\n",
    "from PIL import Image  \n",
    "import os, sys\n",
    "import albumentations as A\n",
    "from IPython.display import clear_output"
   ]
  },
  {
   "cell_type": "code",
   "execution_count": 17,
   "metadata": {},
   "outputs": [],
   "source": [
    "!wget https://www.ispras.ru/conf/vessels/AngioCells.zip\n",
    "!unzip AngioCells\n",
    "!rm AngioCells.zip\n",
    "\n",
    "clear_output()"
   ]
  },
  {
   "cell_type": "code",
   "execution_count": 18,
   "metadata": {},
   "outputs": [],
   "source": [
    "def change_colors(*xx, old_colors, new_colors):\n",
    "    assert len(old_colors) == len(new_colors)\n",
    "    for x in xx:\n",
    "        for old_color, new_color in zip(old_colors, new_colors):\n",
    "            x[(x == np.array(old_color)).all(axis=2)] = np.array(new_color)\n",
    "            \n",
    "def change_pix(im, blue=0):\n",
    "    arr = np.ones(shape=im.shape[:2], dtype='uint8')*2\n",
    "    arr[(im==[0, 0, 0]).all(axis=2)] = 0 # backgrounds\n",
    "    arr[(im==[59, 164, 118]).all(axis=2)] = 2 # tubes\n",
    "    arr[(im==[174,  88, 119]).all(axis=2)] = 1 # nodes\n",
    "    arr[(im==[50, 183, 250]).all(axis=2)] = blue # undefined\n",
    "    return arr"
   ]
  },
  {
   "cell_type": "code",
   "execution_count": 19,
   "metadata": {},
   "outputs": [],
   "source": [
    "tubes = (59,164,118) # green\n",
    "nodes = (174,88,119) # red\n",
    "backgrounds = (0, 0, 0) # black\n",
    "undefined = (50,183,250) # blue\n",
    "\n",
    "TARGET_SHAPE = (640, 480)"
   ]
  },
  {
   "cell_type": "code",
   "execution_count": 20,
   "metadata": {},
   "outputs": [],
   "source": [
    "path_to_angiocells = './AngioCells' # insert your path to dataset"
   ]
  },
  {
   "cell_type": "code",
   "execution_count": 21,
   "metadata": {},
   "outputs": [
    {
     "name": "stdout",
     "output_type": "stream",
     "text": [
      "Dark\n",
      "Defective\n",
      "Different\n",
      "Good\n"
     ]
    }
   ],
   "source": [
    "types = ['Dark', 'Defective', 'Different', 'Good']\n",
    "\n",
    "for type in types:\n",
    "    print(type)\n",
    "    images_dir = f'{path_to_angiocells}/dataset/{type}/images/'\n",
    "    masks_dir = f'{path_to_angiocells}/dataset/{type}/masks/'\n",
    "\n",
    "    # Masks for agreement measurements\n",
    "    def_masks_dir = f'{path_to_angiocells}/prepared_dataset/{type}/defined_masks/' \n",
    "    # res_images_dir contains resized images\n",
    "    res_images_dir = f'{path_to_angiocells}/prepared_dataset/{type}/images/'\n",
    "    # res_masks_dir contains resized masks\n",
    "    res_masks_dir = f'{path_to_angiocells}/prepared_dataset/{type}/resized_masks/'\n",
    "    # resized_mask contains masks with {0, 1, 2} pixels\n",
    "    new_masks_dir = f'{path_to_angiocells}/prepared_dataset/{type}/masks/' \n",
    "\n",
    "    if not os.path.exists(def_masks_dir):\n",
    "        os.makedirs(def_masks_dir)\n",
    "\n",
    "    if not os.path.exists(new_masks_dir):\n",
    "        os.makedirs(new_masks_dir)\n",
    "\n",
    "    if not os.path.exists(res_images_dir):\n",
    "        os.makedirs(res_images_dir)\n",
    "\n",
    "    # set the undefined color to tubes' color\n",
    "    for images in os.listdir(masks_dir):\n",
    "        if (images.endswith('.png')):\n",
    "            mask = np.array(Image.open(masks_dir + images))\n",
    "            change_colors(mask, \n",
    "                        old_colors=(undefined, nodes, backgrounds), \n",
    "                        new_colors=(tubes, nodes, backgrounds),\n",
    "                        )\n",
    "            new_mask = Image.fromarray(np.array(mask, dtype='uint8'))\n",
    "            new_mask.save(def_masks_dir+images)\n",
    "\n",
    "    if not os.path.exists(res_masks_dir):\n",
    "        os.makedirs(res_masks_dir)\n",
    "\n",
    "    for images, masks in zip(sorted(os.listdir(images_dir)), sorted(os.listdir(def_masks_dir))):\n",
    "        if (images.endswith('.png') or images.endswith('.jpg')) and (masks.endswith('.png') or masks.endswith('.jpg')):\n",
    "            image = np.array(Image.open(images_dir + images), dtype = 'uint8')\n",
    "            mask = np.array(Image.open(def_masks_dir + masks), dtype = 'uint8')\n",
    "            resized_image_and_mask = A.Resize( TARGET_SHAPE[1], TARGET_SHAPE[0])(image=image, mask=mask)\n",
    "            resized_image, resized_mask = resized_image_and_mask['image'], resized_image_and_mask['mask']\n",
    "            \n",
    "            fin_resized_image = Image.fromarray(resized_image) \n",
    "            fin_resized_image.save(res_images_dir+images)\n",
    "            \n",
    "            fin_resized_mask = Image.fromarray(resized_mask)\n",
    "            fin_resized_mask.save(res_masks_dir+masks)\n",
    "            \n",
    "    # changing pixel color to 0, 1, 2 in masks\n",
    "    for new_images in os.listdir(res_masks_dir):\n",
    "        if (new_images.endswith('.png')):\n",
    "            new_mask = np.array(Image.open(res_masks_dir + new_images))\n",
    "            new_mask = change_pix(new_mask)  \n",
    "            prepared_mask = Image.fromarray(np.array(new_mask, dtype='uint8'))\n",
    "            prepared_mask.save(new_masks_dir+new_images)"
   ]
  },
  {
   "cell_type": "code",
   "execution_count": 22,
   "metadata": {},
   "outputs": [],
   "source": [
    "'''\n",
    "preparing masks for agreement measurement \n",
    "(coloring undefined blue areas as in the code above)\n",
    "\n",
    "The operation does in-place\n",
    "'''\n",
    "experiments = ['phase_1', 'phase_2', 'phase_3', 'phase_3*']\n",
    "for experiment in experiments:\n",
    "    kappa_masks_dir = f'{path_to_angiocells}/agreement/{experiment}/'\n",
    "    for images in os.listdir(kappa_masks_dir):\n",
    "        if (images.endswith('.png')):\n",
    "            mask = np.array(Image.open(kappa_masks_dir + images))\n",
    "            change_colors(mask, \n",
    "                        old_colors=(undefined, nodes, backgrounds), \n",
    "                        new_colors=(tubes, nodes, backgrounds),\n",
    "                        )\n",
    "            new_mask = Image.fromarray(np.array(mask, dtype='uint8'))\n",
    "            new_mask.save(kappa_masks_dir+images)"
   ]
  }
 ],
 "metadata": {
  "kernelspec": {
   "display_name": "Python 3.9.12 ('bvp')",
   "language": "python",
   "name": "python3"
  },
  "language_info": {
   "codemirror_mode": {
    "name": "ipython",
    "version": 3
   },
   "file_extension": ".py",
   "mimetype": "text/x-python",
   "name": "python",
   "nbconvert_exporter": "python",
   "pygments_lexer": "ipython3",
   "version": "3.9.12"
  },
  "orig_nbformat": 4,
  "vscode": {
   "interpreter": {
    "hash": "09a6b489f6fe432ae1f9a078414dba7ae923ca16a441b46ab00bec0e1bb788cf"
   }
  }
 },
 "nbformat": 4,
 "nbformat_minor": 2
}
