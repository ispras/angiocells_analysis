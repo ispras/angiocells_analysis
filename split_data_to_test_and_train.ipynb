{
 "cells": [
  {
   "cell_type": "code",
   "execution_count": 19,
   "metadata": {},
   "outputs": [],
   "source": [
    "import os\n",
    "import shutil\n",
    "\n",
    "from sklearn.model_selection import train_test_split"
   ]
  },
  {
   "cell_type": "code",
   "execution_count": 20,
   "metadata": {},
   "outputs": [],
   "source": [
    "path_to_angiocells = './AngioCells'"
   ]
  },
  {
   "cell_type": "code",
   "execution_count": 21,
   "metadata": {},
   "outputs": [],
   "source": [
    "def copyfile(src, dst, file_names):\n",
    "    os.makedirs(dst, exist_ok=True)\n",
    "    \n",
    "    for file_name in file_names:\n",
    "        src_file = os.path.join(src, file_name)\n",
    "        dst_file = os.path.join(dst, file_name)\n",
    "        shutil.copyfile(src_file, dst_file)"
   ]
  },
  {
   "cell_type": "code",
   "execution_count": 22,
   "metadata": {},
   "outputs": [
    {
     "name": "stdout",
     "output_type": "stream",
     "text": [
      "Dark                 54\n",
      "train                36\n",
      "test                 18\n",
      "\n",
      "Defective            79\n",
      "train                53\n",
      "test                 26\n",
      "\n",
      "Different            28\n",
      "train                19\n",
      "test                 9\n",
      "\n",
      "Good                 114\n",
      "train                77\n",
      "test                 37\n",
      "\n"
     ]
    }
   ],
   "source": [
    "types = ['Dark', 'Defective', 'Different', 'Good']\n",
    "\n",
    "train_size = 0.68 \n",
    "test_size = 0.32\n",
    "\n",
    "for type in types:\n",
    "    path_to_images = os.path.join(f'{path_to_angiocells}/prepared_dataset/', type, 'images')\n",
    "    path_to_masks = os.path.join(f'{path_to_angiocells}/prepared_dataset/', type, 'masks')\n",
    "    names = sorted(os.listdir(path_to_images))\n",
    "    train_names, test_names = train_test_split(names, test_size=test_size, random_state=42, shuffle=True)\n",
    "    print(f'{type}'.ljust(20), f'{len(names)}')\n",
    "    print(f'train'.ljust(20), f'{len(train_names)}')\n",
    "    print(f'test'.ljust(20), f'{len(test_names)}', end='\\n\\n')\n",
    "    \n",
    "    # copy images for test\n",
    "    copyfile(src=path_to_images, \n",
    "             dst=os.path.join(f'{path_to_angiocells}/prepared_dataset/', type, 'train', 'images'),\n",
    "             file_names=train_names)\n",
    "    \n",
    "    # copy images for train\n",
    "    copyfile(src=path_to_images, \n",
    "             dst=os.path.join(f'{path_to_angiocells}/prepared_dataset/', type, 'test', 'images'),\n",
    "             file_names=test_names)\n",
    "    \n",
    "    train_names = list(map(lambda x: x.replace('.jpg', '.png'), train_names))\n",
    "    test_names = list(map(lambda x: x.replace('.jpg', '.png'), test_names))\n",
    "    \n",
    "    # copy masks for test\n",
    "    copyfile(src=path_to_masks, \n",
    "             dst=os.path.join(f'{path_to_angiocells}/prepared_dataset/', type, 'train', 'masks'),\n",
    "             file_names=train_names)\n",
    "    \n",
    "    # copy masks for train\n",
    "    copyfile(src=path_to_masks, \n",
    "             dst=os.path.join(f'{path_to_angiocells}/prepared_dataset/', type, 'test', 'masks'),\n",
    "             file_names=test_names)\n",
    "\n"
   ]
  },
  {
   "cell_type": "code",
   "execution_count": 23,
   "metadata": {},
   "outputs": [
    {
     "name": "stdout",
     "output_type": "stream",
     "text": [
      "train_images = 186\n",
      "test_images = 92\n"
     ]
    }
   ],
   "source": [
    "# split for All images and masks\n",
    "\n",
    "test_images = 0\n",
    "train_images = 0\n",
    "for type in types:\n",
    "    for folder in 'images', 'masks':\n",
    "        for train_test in 'train', 'test':\n",
    "            srs = os.path.join(f'{path_to_angiocells}/prepared_dataset/', type, train_test, folder)\n",
    "            names = os.listdir(srs)\n",
    "            copyfile(src=srs, \n",
    "                     dst=os.path.join(f'{path_to_angiocells}/prepared_dataset/', 'All', train_test, folder),\n",
    "                     file_names=names)\n",
    "            if train_test == 'train' and folder == 'images':\n",
    "                train_images += len(names)\n",
    "            elif folder == 'images':\n",
    "                test_images += len(names)\n",
    "                \n",
    "print(f'{train_images = }')\n",
    "print(f'{test_images = }')"
   ]
  }
 ],
 "metadata": {
  "kernelspec": {
   "display_name": "Python 3.9.12 ('bvp')",
   "language": "python",
   "name": "python3"
  },
  "language_info": {
   "codemirror_mode": {
    "name": "ipython",
    "version": 3
   },
   "file_extension": ".py",
   "mimetype": "text/x-python",
   "name": "python",
   "nbconvert_exporter": "python",
   "pygments_lexer": "ipython3",
   "version": "3.9.12 (main, Apr  5 2022, 06:56:58) \n[GCC 7.5.0]"
  },
  "orig_nbformat": 4,
  "vscode": {
   "interpreter": {
    "hash": "09a6b489f6fe432ae1f9a078414dba7ae923ca16a441b46ab00bec0e1bb788cf"
   }
  }
 },
 "nbformat": 4,
 "nbformat_minor": 2
}
